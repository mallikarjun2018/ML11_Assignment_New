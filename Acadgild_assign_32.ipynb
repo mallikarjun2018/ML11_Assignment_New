{
 "cells": [
  {
   "cell_type": "markdown",
   "metadata": {},
   "source": [
    "## ARIMA -  shampoo dataset"
   ]
  },
  {
   "cell_type": "code",
   "execution_count": 1,
   "metadata": {},
   "outputs": [],
   "source": [
    "# Import Packages\n",
    "\n",
    "import numpy as np\n",
    "import pandas as pd\n",
    "import seaborn as sns\n",
    "import matplotlib.pyplot as plt\n",
    "%matplotlib inline\n",
    "import warnings\n",
    "warnings.filterwarnings(\"ignore\")\n",
    "from matplotlib.pylab import rcParams\n",
    "rcParams['figure.figsize'] = 15,6\n"
   ]
  },
  {
   "cell_type": "code",
   "execution_count": 2,
   "metadata": {},
   "outputs": [],
   "source": [
    "#import data\n",
    "\n",
    "data = pd.read_csv('shampoo-sales.csv')"
   ]
  },
  {
   "cell_type": "code",
   "execution_count": 4,
   "metadata": {},
   "outputs": [
    {
     "data": {
      "text/html": [
       "<div>\n",
       "<style scoped>\n",
       "    .dataframe tbody tr th:only-of-type {\n",
       "        vertical-align: middle;\n",
       "    }\n",
       "\n",
       "    .dataframe tbody tr th {\n",
       "        vertical-align: top;\n",
       "    }\n",
       "\n",
       "    .dataframe thead th {\n",
       "        text-align: right;\n",
       "    }\n",
       "</style>\n",
       "<table border=\"1\" class=\"dataframe\">\n",
       "  <thead>\n",
       "    <tr style=\"text-align: right;\">\n",
       "      <th></th>\n",
       "      <th>Month</th>\n",
       "      <th>Sales of shampoo over a three year period</th>\n",
       "    </tr>\n",
       "  </thead>\n",
       "  <tbody>\n",
       "    <tr>\n",
       "      <th>0</th>\n",
       "      <td>1/1/2019</td>\n",
       "      <td>266.0</td>\n",
       "    </tr>\n",
       "    <tr>\n",
       "      <th>1</th>\n",
       "      <td>2/1/2019</td>\n",
       "      <td>145.9</td>\n",
       "    </tr>\n",
       "    <tr>\n",
       "      <th>2</th>\n",
       "      <td>3/1/2019</td>\n",
       "      <td>183.1</td>\n",
       "    </tr>\n",
       "    <tr>\n",
       "      <th>3</th>\n",
       "      <td>4/1/2019</td>\n",
       "      <td>119.3</td>\n",
       "    </tr>\n",
       "    <tr>\n",
       "      <th>4</th>\n",
       "      <td>5/1/2019</td>\n",
       "      <td>180.3</td>\n",
       "    </tr>\n",
       "  </tbody>\n",
       "</table>\n",
       "</div>"
      ],
      "text/plain": [
       "      Month  Sales of shampoo over a three year period\n",
       "0  1/1/2019                                      266.0\n",
       "1  2/1/2019                                      145.9\n",
       "2  3/1/2019                                      183.1\n",
       "3  4/1/2019                                      119.3\n",
       "4  5/1/2019                                      180.3"
      ]
     },
     "execution_count": 4,
     "metadata": {},
     "output_type": "execute_result"
    }
   ],
   "source": [
    "data.head()"
   ]
  },
  {
   "cell_type": "code",
   "execution_count": 5,
   "metadata": {},
   "outputs": [],
   "source": [
    "#Convert the Month to datetime format\n",
    "ts = pd.read_csv('shampoo-sales.csv',header=0, parse_dates=[0], index_col=0, squeeze=True)"
   ]
  },
  {
   "cell_type": "code",
   "execution_count": 6,
   "metadata": {},
   "outputs": [
    {
     "data": {
      "text/plain": [
       "Month\n",
       "2019-01-01    266.0\n",
       "2019-02-01    145.9\n",
       "2019-03-01    183.1\n",
       "2019-04-01    119.3\n",
       "2019-05-01    180.3\n",
       "Name: Sales of shampoo over a three year period, dtype: float64"
      ]
     },
     "execution_count": 6,
     "metadata": {},
     "output_type": "execute_result"
    }
   ],
   "source": [
    "ts.head()"
   ]
  },
  {
   "cell_type": "code",
   "execution_count": 7,
   "metadata": {},
   "outputs": [
    {
     "data": {
      "text/plain": [
       "dtype('float64')"
      ]
     },
     "execution_count": 7,
     "metadata": {},
     "output_type": "execute_result"
    }
   ],
   "source": [
    "ts.dtypes"
   ]
  },
  {
   "cell_type": "code",
   "execution_count": 8,
   "metadata": {},
   "outputs": [
    {
     "data": {
      "text/plain": [
       "Month\n",
       "2019-08-03    407.6\n",
       "2019-09-03    682.0\n",
       "2019-10-03    475.3\n",
       "2019-11-03    581.3\n",
       "2019-12-03    646.9\n",
       "Name: Sales of shampoo over a three year period, dtype: float64"
      ]
     },
     "execution_count": 8,
     "metadata": {},
     "output_type": "execute_result"
    }
   ],
   "source": [
    "ts.tail()"
   ]
  },
  {
   "cell_type": "code",
   "execution_count": 9,
   "metadata": {},
   "outputs": [
    {
     "data": {
      "text/plain": [
       "[<matplotlib.lines.Line2D at 0x2158b26ca20>]"
      ]
     },
     "execution_count": 9,
     "metadata": {},
     "output_type": "execute_result"
    },
    {
     "data": {
      "image/png": "[encoded data removed]",
      "text/plain": [
       "<Figure size 864x576 with 1 Axes>"
      ]
     },
     "metadata": {
      "needs_background": "light"
     },
     "output_type": "display_data"
    }
   ],
   "source": [
    "#plot timeseries\n",
    "plt.figure(figsize=(12,8))\n",
    "plt.plot(ts)"
   ]
  },
  {
   "cell_type": "markdown",
   "metadata": {},
   "source": [
    "### Autocorrelation"
   ]
  },
  {
   "cell_type": "markdown",
   "metadata": {},
   "source": [
    "Autocorrelation :- The process of finding the correlation between the an observation of the time series and its previous times of the same series ( Lags). And its strenght can determined by ACF plot"
   ]
  },
  {
   "cell_type": "code",
   "execution_count": null,
   "metadata": {},
   "outputs": [],
   "source": [
    "# ACF Plot\n",
    "\n",
    "from statsmodels.graphics.tsaplots import plot_acf\n",
    "\n",
    "plot_acf(ts, lags = 20)\n",
    "#plt.xlim(0, 50)\n",
    "plt.show()"
   ]
  },
  {
   "cell_type": "markdown",
   "metadata": {},
   "source": [
    "### Partial Autocorrelation"
   ]
  },
  {
   "cell_type": "markdown",
   "metadata": {},
   "source": [
    "Partial Autocorrelation is same as autocorrelation but without intervening observations.\n",
    "The Autocorrelation has both direct correlation and indirect correlations between the observation and its pervious observation.\n",
    "But in Partial Autocorrelation it has only direct correlation while finding the relation b/w observation and its pervious observation."
   ]
  },
  {
   "cell_type": "code",
   "execution_count": null,
   "metadata": {},
   "outputs": [],
   "source": [
    "from statsmodels.graphics.tsaplots import plot_pacf\n",
    "\n",
    "plot_pacf(ts, lags=20)\n",
    "plt.show()"
   ]
  },
  {
   "cell_type": "markdown",
   "metadata": {},
   "source": [
    "### Autoregression (AR) process with a lag of k\n",
    "\n",
    "As ACF has both direct and indirect correlations , the ACF for the AR(k) time series  will be strong to a lag of k and gradually decrease.\n",
    "\n",
    "And as PACF has only direct correlations , the PACF for the AR(k) time series  will be strong to a lag of k and no correlation beyond.\n",
    "\n",
    "So AR values can be easily found by PACF Plot."
   ]
  },
  {
   "cell_type": "markdown",
   "metadata": {},
   "source": [
    "### Moving average (MA) process with a lag of k.\n",
    "\n",
    "Moving average model constitute only residual errors by which it corrects future forecasts based on errors made on recent forecasts.\n",
    "\n",
    "ACF for the MA(k) process to show a strong correlation with recent values up to the lag of k, then a sharp decline to low or no correlation\n",
    "\n",
    "PACF for the MA(k) process to show a strong correlation with recent values up to the lag of k, then the values gradually decrease.\n",
    "\n",
    "So MA values can be easily found by ACF Plot.\n"
   ]
  },
  {
   "attachments": {
    "image.png": {
     "image/png": "[encoded data removed]"
    }
   },
   "cell_type": "markdown",
   "metadata": {},
   "source": [
    "![image.png](attachment:image.png)\n"
   ]
  },
  {
   "cell_type": "markdown",
   "metadata": {},
   "source": [
    "### Autoregression (AR)\n",
    "1. The autoregression (AR) method models the next step based on the observations in previous step by Linear Regression.\n",
    "2. AR(p). For example, AR(1) is a first-order autoregression model.\n",
    "3. The method is suitable for univariate time series without trend and seasonal components"
   ]
  },
  {
   "cell_type": "code",
   "execution_count": null,
   "metadata": {},
   "outputs": [],
   "source": [
    "from statsmodels.tsa.ar_model import AR\n",
    "\n",
    "ar_model = AR(ts)\n",
    "ar_fit = ar_model.fit()\n",
    "pred = ar_fit.predict(len(ts), len(ts))\n",
    "print(pred)"
   ]
  },
  {
   "cell_type": "code",
   "execution_count": null,
   "metadata": {},
   "outputs": [],
   "source": [
    "# Program to test the stationarity\n",
    "\n",
    "from statsmodels.tsa.stattools import adfuller\n",
    "\n",
    "def test_stationarity(ts):\n",
    "    \n",
    "    roll_mean = ts.rolling(12).mean()\n",
    "    roll_std = ts.rolling(12).std()\n",
    "    \n",
    "    #plot rolling statistics\n",
    "    orig = plt.plot(ts, color = 'blue', label = 'Original')\n",
    "    mean = plt.plot(roll_mean, color = 'red', label = 'roll_mean')\n",
    "    std = plt.plot(roll_std, color = 'black', label = 'roll_std')\n",
    "    plt.title('Rolling Statistics')\n",
    "    plt.legend(loc='best')\n",
    "    plt.show(block=False)\n",
    "    \n",
    "    print('Statistical Test')\n",
    "    dftest = adfuller(ts, autolag='AIC')\n",
    "    df_output = pd.Series(dftest[0:4], index=['Test Statistics', 'p-Value', '#Lag', 'Number of observations'])\n",
    "    for key,value in dftest[4].items():\n",
    "        df_output['Critical Value(%s)'%key] = value\n",
    "    print(df_output)"
   ]
  },
  {
   "cell_type": "code",
   "execution_count": null,
   "metadata": {},
   "outputs": [],
   "source": [
    "plt.figure(figsize=(12,8))\n",
    "test_stationarity(ts)"
   ]
  },
  {
   "cell_type": "markdown",
   "metadata": {},
   "source": [
    "Both Rolling mean & std plot and statistics shows the data is not stationary ( Test Statistics > Critical value - not stationary)\n",
    "\n",
    "Here as the Non- Stationarity is only due to trend we can directly use the ARIMA , where it takes non- stationarity data and develop the time series forecast model"
   ]
  },
  {
   "cell_type": "markdown",
   "metadata": {},
   "source": [
    "### Moving Average (MA)\n",
    "1. The Moving Average (MA) method models the next step based on the residual errors previous step by Linear Regression.\n",
    "2. MA(q). For example, MA(1) is a first-order moving average model.\n",
    "3. The method is suitable for univariate time series without trend and seasonal components"
   ]
  },
  {
   "cell_type": "code",
   "execution_count": null,
   "metadata": {},
   "outputs": [],
   "source": [
    "from statsmodels.tsa.arima_model import ARMA\n",
    "\n",
    "ma_model = ARMA(ts, order=(0,1))\n",
    "ma_fit = ma_model.fit(disp=False)\n",
    "ma_pred = ma_fit.predict(len(ts), len(ts))\n",
    "print(ma_pred)"
   ]
  },
  {
   "cell_type": "markdown",
   "metadata": {},
   "source": [
    "### Autoregressive Moving Average (ARMA)\n",
    "\n",
    "It combines both AR & MA model"
   ]
  },
  {
   "cell_type": "code",
   "execution_count": null,
   "metadata": {},
   "outputs": [],
   "source": [
    "from statsmodels.tsa.arima_model import ARMA\n",
    "\n",
    "arma_model = ARMA(ts, order=(1,1))\n",
    "arma_fit = arma_model.fit()\n",
    "arma_pred = arma_fit.predict(len(ts), len(ts))\n",
    "print(arma_pred)"
   ]
  },
  {
   "cell_type": "markdown",
   "metadata": {},
   "source": [
    "### Autoregressive Integrated Moving Average (ARIMA)\n",
    "\n",
    "In this model in addition to AR , MA model it also has I i.e integration of differenciation which helps in converting the non- stationary ( trend & seasionality ) to stationary.\n",
    "\n",
    "The method is suitable for univariate time series with trend and without seasonal components\n",
    "\n",
    "AR: Autoregression. A model that uses the dependent relationship between an observation and some number of lagged observations.\n",
    "\n",
    "I: Integrated. The use of differencing of raw observations (e.g. subtracting an observation from an observation at the previous time step) in order to make the time series stationary.\n",
    "\n",
    "MA: Moving Average. A model that uses the dependency between an observation and its residual error fand applied to lagged observations.\n",
    "\n",
    "The parameters of the ARIMA model are defined as follows:\n",
    "\n",
    "p (Lag Order): The number of lag observations included in the model, also called the lag order.This would be similar to stating that it is likely to be warm tomorrow if it has been warm the past 3 days.\n",
    "\n",
    "d (Differencing degree): The number of times that the raw observations are differenced, also called the degree of differencing.\n",
    "This would be similar to stating that it is likely to be same temperature tomorrow if the difference in temperature in the last three days has been very small.\n",
    "\n",
    "q (MA order): The size of the moving average window, also called the order of moving average. This allows us to set the error of our model as a linear combination of the error values observed at previous time points in the past.\n",
    "\\"
   ]
  },
  {
   "cell_type": "code",
   "execution_count": null,
   "metadata": {},
   "outputs": [],
   "source": [
    "from statsmodels.tsa.arima_model import ARIMA\n",
    "\n",
    "arima_model = ARIMA(ts, order=(1,0,1))\n",
    "# in this we consider d as 0 as the data is already sationary\n",
    "arima_fit = arima_model.fit()\n",
    "arima_pred = arima_fit.predict(len(ts), len(ts))\n",
    "print(arima_pred)"
   ]
  },
  {
   "cell_type": "markdown",
   "metadata": {},
   "source": [
    "### ARIMA - Grid search of p,d,q parameters - shampoo dataset"
   ]
  },
  {
   "cell_type": "code",
   "execution_count": null,
   "metadata": {},
   "outputs": [],
   "source": [
    "plt.figure(figsize=(15,6))\n",
    "plt.subplot(1,3,1)\n",
    "plt.plot(ts['1901'])\n",
    "plt.subplot(1,3,2)\n",
    "plt.plot(ts['1902'])\n",
    "plt.subplot(1,3,3)\n",
    "plt.plot(ts['1903'])"
   ]
  },
  {
   "cell_type": "markdown",
   "metadata": {},
   "source": [
    "From the above graph it is evident that there is no seasonality but we can observe the trend"
   ]
  },
  {
   "cell_type": "code",
   "execution_count": null,
   "metadata": {},
   "outputs": [],
   "source": [
    "#To find the optimal values to the p,d,q parameters\n",
    "from statsmodels.tsa.arima_model import ARIMA\n",
    "from sklearn.metrics import mean_squared_error\n",
    "\n",
    "def evaluate_arima_model(X, arima_order):\n",
    "    train_size = int(len(X)*0.66)\n",
    "    train, test = X[:train_size], X[train_size:]\n",
    "    history = [x for x in train]\n",
    "    predictions = []\n",
    "    for t in range(len(test)):\n",
    "        model = ARIMA( history, order = arima_order)\n",
    "        model_fit = model.fit(disp=0)\n",
    "        yhat = model_fit.forecast()[0]\n",
    "        predictions.append(yhat)\n",
    "        history.append(train[t])\n",
    "    error = mean_squared_error(test, predictions)\n",
    "    return error\n",
    "\n",
    "def evaluate_models(dataset, p_values, d_values,q_values ):\n",
    "    dataset = dataset.astype('float32')\n",
    "    best_score, best_cfg = float(\"inf\"), None\n",
    "    for p in p_values:\n",
    "        for d in d_values:\n",
    "            for q in q_values:\n",
    "                order = (p,d,q)\n",
    "                try:\n",
    "                    mse = evaluate_arima_model(dataset, order)\n",
    "                    if mse < best_score:\n",
    "                        best_score, best_cfg = mse, order\n",
    "                    print('ARIMA%s MSE = %.3f' %(order, mse))\n",
    "                except:\n",
    "                    continue\n",
    "    print('Best ARIMA%s MSE=%.3f' %(best_cfg, best_score))\n",
    "                    \n"
   ]
  },
  {
   "cell_type": "code",
   "execution_count": null,
   "metadata": {},
   "outputs": [],
   "source": [
    "p_values = range(0,8)\n",
    "d_values = range(0,3)\n",
    "q_values = range(0,3)\n",
    "\n",
    "evaluate_models(ts, p_values, d_values, q_values )"
   ]
  },
  {
   "cell_type": "markdown",
   "metadata": {},
   "source": [
    "From the above ARIMA parameter grid search method we identified that Best ARIMA(6, 1, 1) with least MSE=62491.594"
   ]
  },
  {
   "cell_type": "code",
   "execution_count": null,
   "metadata": {},
   "outputs": [],
   "source": [
    "from sklearn.metrics import mean_squared_error\n",
    "\n",
    "X = ts\n",
    "size = int(len(X) * 0.66)\n",
    "train, test = X[0:size], X[size:len(X)]\n",
    "history = [x for x in train]\n",
    "predictions = list()\n",
    "\n",
    "for t in range(len(test)):\n",
    "    model = ARIMA(history, order=(5,1,0))\n",
    "    model_fit = model.fit(disp=0)\n",
    "    output = model_fit.forecast()\n",
    "    yhat = output[0]\n",
    "    predictions.append(yhat)\n",
    "    obs = test[t]\n",
    "    history.append(obs)\n",
    "    print('predicted=%f, expected=%f' % (yhat, obs))\n",
    "error = mean_squared_error(test, predictions)\n",
    "print('Test MSE: %.3f' % error)\n",
    "\n",
    "\n",
    "# plot\n",
    "plt.plot(test)\n",
    "plt.plot(predictions, color='red')\n",
    "plt.show()"
   ]
  },
  {
   "cell_type": "code",
   "execution_count": null,
   "metadata": {},
   "outputs": [],
   "source": []
  },
  {
   "cell_type": "code",
   "execution_count": null,
   "metadata": {},
   "outputs": [],
   "source": []
  },
  {
   "cell_type": "code",
   "execution_count": null,
   "metadata": {},
   "outputs": [],
   "source": [
    "results.plot_diagnostics(figsize=(15, 12))\n",
    "plt.show()"
   ]
  },
  {
   "cell_type": "code",
   "execution_count": null,
   "metadata": {},
   "outputs": [],
   "source": []
  }
 ],
 "metadata": {
  "kernelspec": {
   "display_name": "Python 3",
   "language": "python",
   "name": "python3"
  },
  "language_info": {
   "codemirror_mode": {
    "name": "ipython",
    "version": 3
   },
   "file_extension": ".py",
   "mimetype": "text/x-python",
   "name": "python",
   "nbconvert_exporter": "python",
   "pygments_lexer": "ipython3",
   "version": "3.6.6"
  }
 },
 "nbformat": 4,
 "nbformat_minor": 2
}
